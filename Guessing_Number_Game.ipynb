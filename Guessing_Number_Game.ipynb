{
 "cells": [
  {
   "cell_type": "markdown",
   "id": "f22ede6e",
   "metadata": {},
   "source": [
    "# Guessing_the_number_game"
   ]
  },
  {
   "cell_type": "markdown",
   "id": "7f8ffad5",
   "metadata": {},
   "source": [
    "## Importing the required file"
   ]
  },
  {
   "cell_type": "code",
   "execution_count": 1,
   "id": "2608fa71",
   "metadata": {},
   "outputs": [],
   "source": [
    "import random"
   ]
  },
  {
   "cell_type": "code",
   "execution_count": 2,
   "id": "dc72cb41",
   "metadata": {},
   "outputs": [],
   "source": [
    "# Selecting a random number between 1 and 100\n",
    "num = random.randint(1,100)"
   ]
  },
  {
   "cell_type": "code",
   "execution_count": 3,
   "id": "f771ce69",
   "metadata": {},
   "outputs": [
    {
     "data": {
      "text/plain": [
       "16"
      ]
     },
     "execution_count": 3,
     "metadata": {},
     "output_type": "execute_result"
    }
   ],
   "source": [
    "# just to check the value of num\n",
    "num"
   ]
  },
  {
   "cell_type": "code",
   "execution_count": null,
   "id": "4f43755f",
   "metadata": {},
   "outputs": [],
   "source": []
  },
  {
   "cell_type": "markdown",
   "id": "b5b54a8e",
   "metadata": {},
   "source": [
    "## Priniting the introduction to the game and rules !"
   ]
  },
  {
   "cell_type": "code",
   "execution_count": 4,
   "id": "81a4b524",
   "metadata": {},
   "outputs": [
    {
     "name": "stdout",
     "output_type": "stream",
     "text": [
      "WELCOME TO GUESS ME!\n",
      "I'm thinking of a number between 1 and 100\n",
      "If your guess is more than 10 away from my number, I'll tell you you're COLD\n",
      "If your guess is within 10 of my number, I'll tell you you're WARM\n",
      "If your guess is farther than your most recent guess, I'll say you're getting COLDER\n",
      "If your guess is closer than your most recent guess, I'll say you're getting WARMER\n",
      "LET'S PLAY!\n"
     ]
    }
   ],
   "source": [
    "print(\"WELCOME TO GUESS ME!\")\n",
    "print(\"I'm thinking of a number between 1 and 100\")\n",
    "print(\"If your guess is more than 10 away from my number, I'll tell you you're COLD\")\n",
    "print(\"If your guess is within 10 of my number, I'll tell you you're WARM\")\n",
    "print(\"If your guess is farther than your most recent guess, I'll say you're getting COLDER\")\n",
    "print(\"If your guess is closer than your most recent guess, I'll say you're getting WARMER\")\n",
    "print(\"LET'S PLAY!\")"
   ]
  },
  {
   "cell_type": "code",
   "execution_count": null,
   "id": "12994c24",
   "metadata": {},
   "outputs": [],
   "source": []
  },
  {
   "cell_type": "code",
   "execution_count": 5,
   "id": "ed9515b5",
   "metadata": {},
   "outputs": [],
   "source": [
    "# Creating a list to store guesses\n",
    "guesses = [0]"
   ]
  },
  {
   "cell_type": "markdown",
   "id": "b12ecfe3",
   "metadata": {},
   "source": [
    "## Taking the input from the user"
   ]
  },
  {
   "cell_type": "code",
   "execution_count": 9,
   "id": "c3e71f83",
   "metadata": {},
   "outputs": [
    {
     "name": "stdout",
     "output_type": "stream",
     "text": [
      "I'm thinking of a number between 1 and 100.\n",
      "  What is your guess? 39\n"
     ]
    }
   ],
   "source": [
    "while True:\n",
    "    \n",
    "    guess = int(input(\"I'm thinking of a number between 1 and 100.\\n  What is your guess? \"))\n",
    "    \n",
    "    if guess < 1 or guess > 100:\n",
    "        print('OUT OF BOUNDS! Please try again: ')\n",
    "        continue\n",
    "        \n",
    "    break"
   ]
  },
  {
   "cell_type": "code",
   "execution_count": 10,
   "id": "205fc906",
   "metadata": {},
   "outputs": [
    {
     "data": {
      "text/plain": [
       "39"
      ]
     },
     "execution_count": 10,
     "metadata": {},
     "output_type": "execute_result"
    }
   ],
   "source": [
    "# Just to check the flow printing the user input\n",
    "guess"
   ]
  },
  {
   "cell_type": "code",
   "execution_count": null,
   "id": "776c82d6",
   "metadata": {},
   "outputs": [],
   "source": []
  },
  {
   "cell_type": "markdown",
   "id": "cb43c1a5",
   "metadata": {},
   "source": [
    "### loop to compare the user value with guess value"
   ]
  },
  {
   "cell_type": "code",
   "execution_count": null,
   "id": "3534cb78",
   "metadata": {},
   "outputs": [
    {
     "name": "stdout",
     "output_type": "stream",
     "text": [
      "I'm thinking of a number between 1 and 100.\n",
      "  What is your guess? 87\n",
      "COLDER!\n",
      "I'm thinking of a number between 1 and 100.\n",
      "  What is your guess? 52\n",
      "WARMER!\n",
      "I'm thinking of a number between 1 and 100.\n",
      "  What is your guess? 50\n",
      "WARMER!\n",
      "I'm thinking of a number between 1 and 100.\n",
      "  What is your guess? 35\n",
      "WARMER!\n",
      "I'm thinking of a number between 1 and 100.\n",
      "  What is your guess? 26\n",
      "WARMER!\n",
      "I'm thinking of a number between 1 and 100.\n",
      "  What is your guess? 10\n",
      "WARMER!\n",
      "I'm thinking of a number between 1 and 100.\n",
      "  What is your guess? 5\n",
      "COLDER!\n",
      "I'm thinking of a number between 1 and 100.\n",
      "  What is your guess? 9\n",
      "WARMER!\n",
      "I'm thinking of a number between 1 and 100.\n",
      "  What is your guess? 101\n",
      "OUT OF BOUNDS! Please try again: \n"
     ]
    }
   ],
   "source": [
    "# loop that compares the player's guess to our number.\n",
    "# If the player guesses correctly, break from the loop.\n",
    "# Otherwise, tell the player if they're warmer or colder, and continue asking for guesses.\n",
    "\n",
    "while True:\n",
    "\n",
    "    # we can copy the code from above to take an input\n",
    "    guess = int(input(\"I'm thinking of a number between 1 and 100.\\n  What is your guess? \"))\n",
    "    \n",
    "    if guess < 1 or guess > 100:\n",
    "        print('OUT OF BOUNDS! Please try again: ')\n",
    "        continue\n",
    "    \n",
    "    # here we compare the player's guess to our number\n",
    "    if guess == num:\n",
    "        print(f'CONGRATULATIONS, YOU GUESSED IT IN ONLY {len(guesses)} GUESSES!!')\n",
    "        break\n",
    "        \n",
    "    # if guess is incorrect, add guess to the list\n",
    "    guesses.append(guess)\n",
    "    \n",
    "    # when testing the first guess, guesses[-2]==0, which evaluates to False\n",
    "    # and brings us down to the second section\n",
    "    \n",
    "    if guesses[-2]:  \n",
    "        if abs(num-guess) < abs(num-guesses[-2]):\n",
    "            print('WARMER!')\n",
    "        else:\n",
    "            print('COLDER!')\n",
    "   \n",
    "    else:\n",
    "        if abs(num-guess) <= 10:\n",
    "            print('WARM!')\n",
    "        else:\n",
    "            print('COLD!')"
   ]
  },
  {
   "cell_type": "code",
   "execution_count": null,
   "id": "ca12f73e",
   "metadata": {},
   "outputs": [],
   "source": []
  },
  {
   "cell_type": "code",
   "execution_count": null,
   "id": "ec4f7af5",
   "metadata": {},
   "outputs": [],
   "source": []
  },
  {
   "cell_type": "markdown",
   "id": "fe8127f9",
   "metadata": {},
   "source": [
    "# Scope of improvement :"
   ]
  },
  {
   "cell_type": "code",
   "execution_count": null,
   "id": "f6383acf",
   "metadata": {},
   "outputs": [],
   "source": [
    "# We can also put the condition for the equality of the number and increase the range for more fun.\n",
    "# can change coolder or warmer with the going away or close from the guess.\n",
    "# multiple changes can be applied in this....."
   ]
  },
  {
   "cell_type": "markdown",
   "id": "65e49085",
   "metadata": {},
   "source": [
    "### This is just a fun game code by TUSHAR SINGH RAWAT."
   ]
  },
  {
   "cell_type": "code",
   "execution_count": null,
   "id": "4af421ba",
   "metadata": {},
   "outputs": [],
   "source": []
  }
 ],
 "metadata": {
  "kernelspec": {
   "display_name": "Python 3 (ipykernel)",
   "language": "python",
   "name": "python3"
  },
  "language_info": {
   "codemirror_mode": {
    "name": "ipython",
    "version": 3
   },
   "file_extension": ".py",
   "mimetype": "text/x-python",
   "name": "python",
   "nbconvert_exporter": "python",
   "pygments_lexer": "ipython3",
   "version": "3.9.12"
  }
 },
 "nbformat": 4,
 "nbformat_minor": 5
}
